{
 "cells": [
  {
   "cell_type": "markdown",
   "metadata": {},
   "source": [
    "# Quantitative Methods -5030 - Project 2 - Unemployment and Correlations\n",
    "## By Nathan Smith"
   ]
  },
  {
   "cell_type": "code",
   "execution_count": 4,
   "metadata": {},
   "outputs": [],
   "source": [
    "\n",
    "#1. Construct the data set that generates this scatter plot. The source is FRED, 4\n",
    "#a great source for data on macroeconomics aggregates. When you download the data from FRED, it is helpful\n",
    "#to save in .csv format and read into R using read.csv(). Make sure you have obtained the right\n",
    "#series of data. You may need to transform data you can download into the variables that Taylor\n",
    "#plots. It may be helpful to merge the data into one data frame (merge() is useful for this). Finally,\n",
    "#for the later parts of this problem, make sure you download the entire series of observations, not\n",
    "#just the ones that Taylor plots.\n",
    "\n",
    "#2. Use the data set you constructed to reproduce Taylor’s other scatter plot. That is, produce a\n",
    "#scatter plot using only the observations from Q1 of 1990 to Q3 of 2010.\n",
    "#(a) As you do this, try to format the dates as dates (look up how to do this using the as.Date()\n",
    "#function). This will help you to produce nice looking plots within R.\n",
    "\n",
    "#3. Compare the scatter plot you obtain using the full data set to the one that Taylor reports.\n",
    "#(a) For this comparison, you may want to use different plotting characters and colors, and the\n",
    "#points() function to produce different plotting characters for different parts of the sample.\n",
    "\n",
    "#4. Analyze the statistical relationship between seasonally-adjusted unemployment and government\n",
    "#expenditures in a way that is informative and insightful. Some questions you should consider\n",
    "#as you perform the analysis:\n",
    "\n",
    "#(a) Is the correlation that Taylor presents in his scatter plot stable over time? In your analysis,\n",
    "#you could compute the correlation separately decade. In addition to calculations, your\n",
    "#analysis should include informative plots that support your main points.\n",
    "\n",
    "#(b) Write up your comments concisely in a typed report.\n",
    "\n",
    "#5. Write code – likely using for loops – to simulate the process of “cherry picking” in Wolfers’\n",
    "#terminology, and use it to evaluate the seriousness of this part of the criticism. Some suggestions\n",
    "#and refinements to guide your coding journey.\n",
    "\n",
    "#(a) The code should generate two uncorrelated variables x and y (e.g., from a Normal distribution)\n",
    "#over a time series of 256 quarters\n",
    "\n",
    "#(b) Using these variables, use R to compute the correlation between x and y over the last 60\n",
    "#quarters, over the last 61 quarters, over the last 62 quarters.... all the way until... over the\n",
    "#last 256 quarters (the full sample).\n",
    "\n",
    "#i. A researcher who is cherry picking the begin date will then select the lowest correlation.\n",
    "#Have your code do this and store the maximum “cherry picked” correlation,\n",
    "#but for comparison, you should also store the correlation over the entire sample (“not\n",
    "#cherry picked”).\n",
    "\n",
    "#(c) Repeat this process for 1000 possible “cherry picked” correlations and “not cherry picked”\n",
    "#correlations. Store the output.\n",
    "\n",
    "#i. Are the cherry picked correlations different than the not cherry picked correlations?\n",
    "#Use both visual (plots to compare) and numerical evidence (t-tests).\n",
    "\n",
    "#ii. Using the simulated cherry picked sample of correlations, conduct a t-test to evaluate\n",
    "#whether Taylor’s computed negative correlation could be generated from this cherry\n",
    "#picking process with zero underlying correlation"
   ]
  },
  {
   "cell_type": "code",
   "execution_count": 22,
   "metadata": {},
   "outputs": [],
   "source": [
    "gce <- read.csv(\"https://www.dropbox.com/s/ryxgkzxw4ylowd5/GCE.csv?dl=1\", stringsAsFactors=FALSE)\n",
    "unemployment <- read.csv(\"https://www.dropbox.com/s/gsy7ce6lmzdoyf9/Unemployment.csv?dl=1\", stringsAsFactors=FALSE)\n",
    "actualgdp <- read.csv(\"https://www.dropbox.com/s/hkmaea7wew0q4dp/Actual%20GDP.csv?dl=1\", stringsAsFactors=FALSE)"
   ]
  },
  {
   "cell_type": "code",
   "execution_count": 23,
   "metadata": {},
   "outputs": [],
   "source": [
    "# This block of code organizes the data into a form that we can work with. \"Maindata\" is the entire\n",
    "# data set from 1948 to 2018. \"Moderndata\" represents the data that Taylor observed in his findinds\n",
    "actualgdp$GCE <- gce$GCE\n",
    "DataTest <- actualgdp\n",
    "actualgdp$GovP <- (actualgdp$GCE / actualgdp$GDP) * 100\n",
    "maindata <- actualgdp[5:286,]\n",
    "rownames(maindata) <- 1:nrow(maindata)\n",
    "Unemployment <-  unemployment[1:844,]\n",
    "for (i in 1:nrow(unemployment)){\n",
    "  maindata$UnEmp <- unemployment$UNRATE[seq(1, 844, 3)]\n",
    "}\n",
    "modernData <- maindata[170:253,]\n"
   ]
  },
  {
   "cell_type": "code",
   "execution_count": 24,
   "metadata": {},
   "outputs": [
    {
     "data": {
      "image/png": "[encoded data removed]",
      "text/plain": [
       "plot without title"
      ]
     },
     "metadata": {},
     "output_type": "display_data"
    }
   ],
   "source": [
    "#------------ Question 2, Government purchases vs unemployment graph plot ---------------\n",
    "# \n",
    "# \n",
    "# \n",
    "\n",
    "# This block of code re-creates Taylor's scatterplot of Government purchases as a percent of GDP vs unemployment\n",
    "plot(modernData$GovP, modernData$UnEmp, xlim = c(17.5,21.5), ylim = c(3,11), axes = FALSE, cex=.65\n",
    "     , col=\"blue\", pch = 19, xlab = 'Government purchases as a percent of GDP'\n",
    "     , ylab = 'Unemployment Rate')\n",
    "axis(1, at=seq(floor(17.5), ceiling(21.5), .5))\n",
    "axis(2, at=seq(floor(3), ceiling(11), 1))"
   ]
  },
  {
   "cell_type": "code",
   "execution_count": 8,
   "metadata": {},
   "outputs": [
    {
     "data": {
      "text/html": [
       "-0.0200467289032597"
      ],
      "text/latex": [
       "-0.0200467289032597"
      ],
      "text/markdown": [
       "-0.0200467289032597"
      ],
      "text/plain": [
       "[1] -0.02004673"
      ]
     },
     "metadata": {},
     "output_type": "display_data"
    },
    {
     "data": {
      "text/html": [
       "0.81644149500283"
      ],
      "text/latex": [
       "0.81644149500283"
      ],
      "text/markdown": [
       "0.81644149500283"
      ],
      "text/plain": [
       "[1] 0.8164415"
      ]
     },
     "metadata": {},
     "output_type": "display_data"
    },
    {
     "data": {
      "image/png": "[encoded data removed]",
      "text/plain": [
       "plot without title"
      ]
     },
     "metadata": {},
     "output_type": "display_data"
    }
   ],
   "source": [
    "#----------------- Question 3, compare the two economists plots -------------------------\n",
    "# \n",
    "# \n",
    "# \n",
    "\n",
    "# This block of code creates the master scatterplot with all available data\n",
    "plot(maindata$GovP, maindata$UnEmp, xlim = c(15,26), ylim = c(2,11)\n",
    "     , cex = .65, pch = 19, axes = FALSE\n",
    "     , col=\"red\", xlab = 'Government purchases as a percent of GDP'\n",
    "     , ylab = 'Unemployment Rate')\n",
    "axis(1, at=seq(floor(15), ceiling(26), 1))\n",
    "axis(2, at=seq(floor(2), ceiling(11), 1))\n",
    "points(modernData$GovP, modernData$UnEmp, col = 'blue', cex = .65, pch = 19)\n",
    "legend(x=15, y=9.5, legend=\"All data\", fill='red', col='red')\n",
    "legend(x=15, y=11, legend=\"Taylor's data\", fill='blue', col='blue')\n",
    "\n",
    "# This block of code calculates the correlation of the two variables for all the data\n",
    "cor(maindata$GovP, maindata$UnEmp)\n",
    "\n",
    "# This block of code calculates the correlation of the two variables for the timeframe that Taylor is analyzing\n",
    "cor(modernData$GovP, modernData$UnEmp)\n",
    "\n",
    "# "
   ]
  },
  {
   "cell_type": "code",
   "execution_count": 9,
   "metadata": {},
   "outputs": [],
   "source": [
    "#---------------- Question 4, compare the realtionship over decades --------------------------\n",
    "# \n",
    "# \n",
    "# \n",
    "\n",
    "# This block of code seperates out the data by decade. Printed below are the index positions\n",
    "\n",
    "# index 1 through 9: 1940s\n",
    "# index 10 through 49: 1950s\n",
    "# index 50 through 89: 1960s\n",
    "# index 90 through 129: 1970s\n",
    "# index 130 through 169: 1980s\n",
    "# index 170 through 209: 1990s\n",
    "# index 210 through 249: 2000s\n",
    "# index 250 through 282: 2010s\n",
    "\n",
    "d1940 <- maindata[1:9,]\n",
    "d1950 <- maindata[10:49,]\n",
    "d1960 <- maindata[50:89,]\n",
    "d1970 <- maindata[90:129,]\n",
    "d1980 <- maindata[130:169,]\n",
    "d1990 <- maindata[170:209,]\n",
    "d2000 <- maindata[210:249,]\n",
    "d2010 <- maindata[250:282,]\n"
   ]
  },
  {
   "cell_type": "code",
   "execution_count": 10,
   "metadata": {},
   "outputs": [
    {
     "data": {
      "image/png": "[encoded data removed]",
      "text/plain": [
       "Plot with title \"1948 - 2018\""
      ]
     },
     "metadata": {},
     "output_type": "display_data"
    }
   ],
   "source": [
    "# This block of code creates a visualization of all the data color coded by decade\n",
    "\n",
    "plot(d1940$GovP, d1940$UnEmp, cex = .5, pch = 19, col = 'black', xlim = c(16,26), ylim = c(2,11), axes = FALSE\n",
    "     ,xlab = 'Government purchases as a percent of GDP', ylab = 'Unemployment Rate'\n",
    "     , main = '1948 - 2018')\n",
    "points(d1950$GovP, d1950$UnEmp, col = 'tan1', cex = .5, pch = 19)\n",
    "points(d1960$GovP, d1960$UnEmp, col = 'yellow2', cex = .5, pch = 19)\n",
    "points(d1970$GovP, d1970$UnEmp, col = 'green', cex = .5, pch = 19)\n",
    "points(d1980$GovP, d1980$UnEmp, col = 'blue', cex = .5, pch = 19)\n",
    "points(d1990$GovP, d1990$UnEmp, col = 'purple', cex = .5, pch = 19)\n",
    "points(d2000$GovP, d2000$UnEmp, col = 'hotpink', cex = .5, pch = 19)\n",
    "points(d2010$GovP, d2010$UnEmp, col = 'red', cex = .5, pch = 19)\n",
    "axis(1, at=seq(floor(14), ceiling(27), .5))\n",
    "axis(2, at=seq(floor(2), ceiling(11), 1))\n",
    "legend('topright', legend = c('1940s', '1950s', '1960s', '1970s', '1980s', '1990s', '2000s', '2010s')\n",
    "       , col = c('black', 'tan1', 'yellow2', 'green', 'blue'\n",
    "                 , 'purple', 'hotpink', 'red'), cex = 1, pch = 19)\n"
   ]
  },
  {
   "cell_type": "code",
   "execution_count": 12,
   "metadata": {},
   "outputs": [],
   "source": [
    "# Question 5, cherry picking\n",
    "# Part A. This is where we are creating the two uncorelated distributions\n",
    "\n",
    "x <- rnorm(256, mean = (mean(maindata$UnEmp)), sd = sd(maindata$UnEmp))\n",
    "y <- rnorm(256, mean = (mean(maindata$GovP)), sd = sd(maindata$GovP))\n"
   ]
  },
  {
   "cell_type": "code",
   "execution_count": 13,
   "metadata": {},
   "outputs": [],
   "source": [
    "# Part B. This is where we are comparing the correltion between the two dsitributions using a for loop\n",
    "\n",
    "question5 <- as.data.frame(x)\n",
    "question5$y <- y\n",
    "quarter <- 60:256\n",
    "q5cor <- as.data.frame(quarter)\n",
    "q5cor$cor <- NA\n",
    "count <- 59\n",
    "for(i in 1:nrow(q5cor)){\n",
    "  q5cor$cor[i] <- cor(x[(256-count):256], y[(256-count):256])\n",
    "  count <- count + 1\n",
    "}"
   ]
  },
  {
   "cell_type": "code",
   "execution_count": 14,
   "metadata": {},
   "outputs": [],
   "source": [
    "# Question 5 c here is our analysis of the cherry picking claims including our t tests\n",
    "\n",
    "q5c <- as.data.frame(1:1000)\n",
    "q5c$max <- NA\n",
    "q5c$totalcor <- NA\n",
    "question5 <- as.data.frame(x)\n",
    "question5$y <- y\n",
    "quarter <- 60:256\n",
    "q5cor <- as.data.frame(quarter)\n",
    "q5cor$cor <- NA\n",
    "\n",
    "for(n in 1:nrow(q5c)){\n",
    "  x <- rnorm(256, mean = (mean(maindata$UnEmp)), sd = sd(maindata$UnEmp))\n",
    "  y <- rnorm(256, mean = (mean(maindata$GovP)), sd = sd(maindata$GovP))\n",
    "  count <- 59\n",
    "  for(i in 1:nrow(q5cor)){\n",
    "    q5cor$cor[i] <- cor(x[(256-count):256], y[(256-count):256])\n",
    "    count <- count + 1\n",
    "  }\n",
    "  q5c$max[n] <- max(q5cor$cor)\n",
    "  q5c$totalcor[n] <- q5cor$cor[197]\n",
    "}\n"
   ]
  },
  {
   "cell_type": "code",
   "execution_count": 15,
   "metadata": {},
   "outputs": [
    {
     "data": {
      "image/png": "[encoded data removed]",
      "text/plain": [
       "Plot with title \"Count of Correlations\""
      ]
     },
     "metadata": {},
     "output_type": "display_data"
    }
   ],
   "source": [
    "# Histogram of the cherry picked and non cherry picked distributions\n",
    "hist(q5c$max, col=rgb(1,0,0,0.5), xlim = c(-.3,.5), ylim = c(0,300), xlab = 'Correlations'\n",
    "     , ylab = 'Frequency', main = 'Count of Correlations')\n",
    "hist(q5c$totalcor, add = TRUE, col=rgb(0,0,1,0.5))\n",
    "legend('topright', legend = c('\\'Cherry picked\\'', 'Not \\'cherry picked\\'')\n",
    "       , col = c(rgb(1,0,0,0.5), rgb(0,0,1,0.5)), cex = 1, pch = 19)\n"
   ]
  },
  {
   "cell_type": "code",
   "execution_count": 16,
   "metadata": {},
   "outputs": [
    {
     "data": {
      "text/plain": [
       "\n",
       "\tWelch Two Sample t-test\n",
       "\n",
       "data:  q5c$max and q5c$totalco\n",
       "t = 24.332, df = 1800, p-value < 2.2e-16\n",
       "alternative hypothesis: true difference in means is not equal to 0\n",
       "95 percent confidence interval:\n",
       " 0.07633694 0.08972194\n",
       "sample estimates:\n",
       "  mean of x   mean of y \n",
       "0.085575666 0.002546226 \n"
      ]
     },
     "metadata": {},
     "output_type": "display_data"
    },
    {
     "data": {
      "text/plain": [
       "\n",
       "\tOne Sample t-test\n",
       "\n",
       "data:  q5c$max\n",
       "t = 29.819, df = 999, p-value < 2.2e-16\n",
       "alternative hypothesis: true mean is not equal to 0.002546226\n",
       "95 percent confidence interval:\n",
       " 0.08011171 0.09103962\n",
       "sample estimates:\n",
       " mean of x \n",
       "0.08557567 \n"
      ]
     },
     "metadata": {},
     "output_type": "display_data"
    }
   ],
   "source": [
    "# This t test is comparing the cherry picking distribution vs the non cherry picked distribution\n",
    "t.test(q5c$max, q5c$totalco)\n",
    "t.test(x = q5c$max, mu = mean(q5c$totalco))"
   ]
  },
  {
   "cell_type": "code",
   "execution_count": 17,
   "metadata": {},
   "outputs": [],
   "source": [
    "# part 5 c ii\n",
    "\n",
    "# This loop calculates the correlations of the real data in the same manor as we did above to \n",
    "# compare the real data to the cherry picked distribtion\n",
    "realdata <- as.data.frame(quarter)\n",
    "realdata$cor <- NA\n",
    "count <- 59\n",
    "for(i in 1:nrow(realdata)){\n",
    "  realdata$cor[i] <- cor(maindata$UnEmp[(256-count):256], maindata$GovP[(256-count):256])\n",
    "  count <- count + 1\n",
    "}\n"
   ]
  },
  {
   "cell_type": "code",
   "execution_count": 18,
   "metadata": {},
   "outputs": [
    {
     "data": {
      "text/plain": [
       "\n",
       "\tOne Sample t-test\n",
       "\n",
       "data:  realdata$cor\n",
       "t = 13.039, df = 196, p-value < 2.2e-16\n",
       "alternative hypothesis: true mean is not equal to 0.08557567\n",
       "95 percent confidence interval:\n",
       " 0.3763881 0.4800372\n",
       "sample estimates:\n",
       "mean of x \n",
       "0.4282126 \n"
      ]
     },
     "metadata": {},
     "output_type": "display_data"
    }
   ],
   "source": [
    "# This t test evaluates the difference bewteen the acutal data and the Mu of the cherry picked results\n",
    "t.test(realdata$cor, mu = mean(q5c$max))\n"
   ]
  },
  {
   "cell_type": "code",
   "execution_count": 19,
   "metadata": {},
   "outputs": [
    {
     "data": {
      "text/html": [
       "0.808536524187207"
      ],
      "text/latex": [
       "0.808536524187207"
      ],
      "text/markdown": [
       "0.808536524187207"
      ],
      "text/plain": [
       "[1] 0.8085365"
      ]
     },
     "metadata": {},
     "output_type": "display_data"
    },
    {
     "data": {
      "text/html": [
       "22.2769717658939"
      ],
      "text/latex": [
       "22.2769717658939"
      ],
      "text/markdown": [
       "22.2769717658939"
      ],
      "text/plain": [
       "[1] 22.27697"
      ]
     },
     "metadata": {},
     "output_type": "display_data"
    }
   ],
   "source": [
    "\n",
    "taylorcor <- rbind(d1990, d2000)\n",
    "cor(taylorcor$GovP, taylorcor$UnEmp)\n",
    "\n",
    "(.8-.08)/(.4282126/13.249)"
   ]
  },
  {
   "cell_type": "code",
   "execution_count": null,
   "metadata": {},
   "outputs": [],
   "source": []
  },
  {
   "cell_type": "code",
   "execution_count": null,
   "metadata": {},
   "outputs": [],
   "source": []
  }
 ],
 "metadata": {
  "kernelspec": {
   "display_name": "R",
   "language": "R",
   "name": "ir"
  },
  "language_info": {
   "codemirror_mode": "r",
   "file_extension": ".r",
   "mimetype": "text/x-r-source",
   "name": "R",
   "pygments_lexer": "r",
   "version": "3.5.1"
  }
 },
 "nbformat": 4,
 "nbformat_minor": 2
}
