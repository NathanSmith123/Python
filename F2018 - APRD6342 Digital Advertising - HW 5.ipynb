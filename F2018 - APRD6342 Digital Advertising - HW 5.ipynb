{
 "cells": [
  {
   "cell_type": "markdown",
   "metadata": {},
   "source": [
    "# HW 5 - Python\n",
    "## By Nathan Smith\n"
   ]
  },
  {
   "cell_type": "code",
   "execution_count": 1,
   "metadata": {},
   "outputs": [],
   "source": [
    "import seaborn as sns\n",
    "import pandas as pd\n",
    "import statsmodels.api as sm\n",
    "import os "
   ]
  },
  {
   "cell_type": "code",
   "execution_count": 8,
   "metadata": {},
   "outputs": [
    {
     "data": {
      "image/png": "[encoded data removed]",
      "text/plain": [
       "<Figure size 432x288 with 1 Axes>"
      ]
     },
     "metadata": {},
     "output_type": "display_data"
    }
   ],
   "source": [
    "\n",
    "csvfile = 'Travel Pony Facebook.csv'\n",
    "\n",
    "tpf = pd.read_csv('https://www.dropbox.com/s/jgtk2x9l1kh8oz4/Travel%20Pony%20Facebook.csv?dl=1')\n",
    "\n",
    "\n",
    "#Select amount spend when not 0\n",
    "tpf = tpf[ tpf['Amount Spent (USD)'] != 0 ]\n",
    "#sets amtspent equal to the amount spent column\n",
    "tpf['amtspent'] = tpf['Amount Spent (USD)']\n",
    "\n",
    "sns.set_style('darkgrid')\n",
    "sns.distplot(tpf['amtspent'])\n",
    "\n",
    "#sets the campaign type to a categorical variable\n",
    "tpf['Campaign Name'] = tpf['Campaign Name'].astype('category')\n",
    "tpf['Campaign_Code'] = tpf['Campaign Name'].cat.codes\n"
   ]
  },
  {
   "cell_type": "code",
   "execution_count": 9,
   "metadata": {},
   "outputs": [],
   "source": [
    "#Sets the x and y variables for later comparison\n",
    "x = tpf[['Campaign_Code', 'Reach', 'Frequency', 'Impressions', 'Clicks', 'Unique Clicks'\n",
    "         , 'Page Likes', 'Page Engagement', 'Post Engagement', 'Post Likes'\n",
    "         , 'Post Comments', 'Post Shares', 'Photo Views', 'Website Clicks']]\n",
    "y = tpf['amtspent']"
   ]
  },
  {
   "cell_type": "code",
   "execution_count": 6,
   "metadata": {},
   "outputs": [
    {
     "name": "stdout",
     "output_type": "stream",
     "text": [
      "                            OLS Regression Results                            \n",
      "==============================================================================\n",
      "Dep. Variable:               amtspent   R-squared:                       0.927\n",
      "Model:                            OLS   Adj. R-squared:                  0.926\n",
      "Method:                 Least Squares   F-statistic:                     1743.\n",
      "Date:                Thu, 18 Oct 2018   Prob (F-statistic):               0.00\n",
      "Time:                        16:40:10   Log-Likelihood:                -6591.5\n",
      "No. Observations:                1802   AIC:                         1.321e+04\n",
      "Df Residuals:                    1788   BIC:                         1.329e+04\n",
      "Df Model:                          13                                         \n",
      "Covariance Type:            nonrobust                                         \n",
      "===================================================================================\n",
      "                      coef    std err          t      P>|t|      [0.025      0.975]\n",
      "-----------------------------------------------------------------------------------\n",
      "const              -8.2165      1.531     -5.366      0.000     -11.220      -5.213\n",
      "Campaign_Code       0.0135      0.002      5.979      0.000       0.009       0.018\n",
      "Reach               0.0036      0.000     23.278      0.000       0.003       0.004\n",
      "Frequency           4.4988      1.438      3.128      0.002       1.678       7.320\n",
      "Impressions        -0.0013   6.05e-05    -21.458      0.000      -0.001      -0.001\n",
      "Clicks             -0.1742      0.111     -1.569      0.117      -0.392       0.044\n",
      "Unique Clicks       0.3073      0.126      2.444      0.015       0.061       0.554\n",
      "Page Likes         23.0417      9.444      2.440      0.015       4.520      41.564\n",
      "Page Engagement   -19.7454      9.440     -2.092      0.037     -38.261      -1.230\n",
      "Post Engagement    16.8084      7.868      2.136      0.033       1.378      32.239\n",
      "Post Likes          2.3714      1.578      1.502      0.133      -0.724       5.467\n",
      "Post Comments       3.4253      1.641      2.087      0.037       0.207       6.644\n",
      "Post Shares         4.4798      1.602      2.797      0.005       1.339       7.621\n",
      "Photo Views         3.1556      1.577      2.002      0.045       0.064       6.248\n",
      "Website Clicks      3.3764      1.577      2.142      0.032       0.284       6.468\n",
      "==============================================================================\n",
      "Omnibus:                      878.966   Durbin-Watson:                   1.873\n",
      "Prob(Omnibus):                  0.000   Jarque-Bera (JB):            26666.114\n",
      "Skew:                           1.680   Prob(JB):                         0.00\n",
      "Kurtosis:                      21.544   Cond. No.                     8.81e+18\n",
      "==============================================================================\n",
      "\n",
      "Warnings:\n",
      "[1] Standard Errors assume that the covariance matrix of the errors is correctly specified.\n",
      "[2] The smallest eigenvalue is 2.48e-26. This might indicate that there are\n",
      "strong multicollinearity problems or that the design matrix is singular.\n"
     ]
    }
   ],
   "source": [
    "#conducts an OLS regression of the two variables x and y\n",
    "x = sm.add_constant(x)\n",
    "x.shape\n",
    "linreg=sm.OLS(y,x).fit()\n",
    "print(linreg.summary())"
   ]
  },
  {
   "cell_type": "code",
   "execution_count": 7,
   "metadata": {},
   "outputs": [
    {
     "name": "stdout",
     "output_type": "stream",
     "text": [
      "#####################################Question 3################################################\n",
      "\n",
      "\n",
      "What are the three predictors with the highest predictive value (rank them, please)\n",
      "\n",
      "Rank 1 = Page Likes (coef = 23.0417, P-value =  0.015)\n",
      "Rank 2 = Post Engagement (coef = 16.8084, P-value =  0.033)\n",
      "Rank 3 = Frequency (coef= 4.4988, P-value = 0.002)\n",
      "\n",
      "\n",
      "If we base the analysis purely on magnitude of coefficients the top three would be\n",
      "\n",
      "Rank 1 = Page Likes, Rank 2 = Page Engagement, Rank 3 = Post Engagement\n",
      "\n",
      "It seems strange that Page Engagement would have such a large negative coefficient that is\n",
      "also significant. It does not makes sense that spending more on Page Engagement would cause\n",
      "users to frequent the page less often than had you spent no money at all.\n",
      "\n",
      "\n",
      "\n"
     ]
    }
   ],
   "source": [
    "print('#####################################Question 3################################################')\n",
    "print('')\n",
    "print('')\n",
    "print('What are the three predictors with the highest predictive value (rank them, please)')\n",
    "print('')\n",
    "print( 'Rank 1 = Page Likes (coef = 23.0417, P-value =  0.015)')\n",
    "print( 'Rank 2 = Post Engagement (coef = 16.8084, P-value =  0.033)' )\n",
    "print( 'Rank 3 = Frequency (coef= 4.4988, P-value = 0.002)')\n",
    "print('')\n",
    "print('')\n",
    "print( 'If we base the analysis purely on magnitude of coefficients the top three would be')\n",
    "print('')\n",
    "print('Rank 1 = Page Likes, Rank 2 = Page Engagement, Rank 3 = Post Engagement')\n",
    "print('')\n",
    "print('It seems strange that Page Engagement would have such a large negative coefficient that is')\n",
    "print('also significant. It does not makes sense that spending more on Page Engagement would cause')\n",
    "print('users to frequent the page less often than had you spent no money at all.')\n",
    "print('')\n",
    "print('')\n",
    "print('')"
   ]
  },
  {
   "cell_type": "code",
   "execution_count": null,
   "metadata": {},
   "outputs": [],
   "source": []
  }
 ],
 "metadata": {
  "kernelspec": {
   "display_name": "Python 3",
   "language": "python",
   "name": "python3"
  },
  "language_info": {
   "codemirror_mode": {
    "name": "ipython",
    "version": 3
   },
   "file_extension": ".py",
   "mimetype": "text/x-python",
   "name": "python",
   "nbconvert_exporter": "python",
   "pygments_lexer": "ipython3",
   "version": "3.5.6"
  }
 },
 "nbformat": 4,
 "nbformat_minor": 2
}
